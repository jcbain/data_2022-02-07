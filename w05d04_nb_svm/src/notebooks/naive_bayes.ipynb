{
 "cells": [
  {
   "cell_type": "markdown",
   "id": "4bf3f771-e6a8-414f-99b7-b441ef26fb56",
   "metadata": {},
   "source": [
    "# Naive Bayes\n",
    "\n"
   ]
  },
  {
   "cell_type": "code",
   "execution_count": 1,
   "id": "43419048-0b93-42e5-8725-3f86dd2be591",
   "metadata": {},
   "outputs": [
    {
     "data": {
      "text/html": [
       "<div>\n",
       "<style scoped>\n",
       "    .dataframe tbody tr th:only-of-type {\n",
       "        vertical-align: middle;\n",
       "    }\n",
       "\n",
       "    .dataframe tbody tr th {\n",
       "        vertical-align: top;\n",
       "    }\n",
       "\n",
       "    .dataframe thead th {\n",
       "        text-align: right;\n",
       "    }\n",
       "</style>\n",
       "<table border=\"1\" class=\"dataframe\">\n",
       "  <thead>\n",
       "    <tr style=\"text-align: right;\">\n",
       "      <th></th>\n",
       "      <th>is_hungry</th>\n",
       "      <th>has_poptarts</th>\n",
       "      <th>is_driving</th>\n",
       "      <th>will_eat</th>\n",
       "    </tr>\n",
       "  </thead>\n",
       "  <tbody>\n",
       "    <tr>\n",
       "      <th>0</th>\n",
       "      <td>yes</td>\n",
       "      <td>yes</td>\n",
       "      <td>no</td>\n",
       "      <td>yes</td>\n",
       "    </tr>\n",
       "    <tr>\n",
       "      <th>1</th>\n",
       "      <td>yes</td>\n",
       "      <td>no</td>\n",
       "      <td>no</td>\n",
       "      <td>yes</td>\n",
       "    </tr>\n",
       "    <tr>\n",
       "      <th>2</th>\n",
       "      <td>yes</td>\n",
       "      <td>no</td>\n",
       "      <td>yes</td>\n",
       "      <td>no</td>\n",
       "    </tr>\n",
       "    <tr>\n",
       "      <th>3</th>\n",
       "      <td>no</td>\n",
       "      <td>yes</td>\n",
       "      <td>yes</td>\n",
       "      <td>no</td>\n",
       "    </tr>\n",
       "    <tr>\n",
       "      <th>4</th>\n",
       "      <td>no</td>\n",
       "      <td>no</td>\n",
       "      <td>yes</td>\n",
       "      <td>no</td>\n",
       "    </tr>\n",
       "    <tr>\n",
       "      <th>5</th>\n",
       "      <td>yes</td>\n",
       "      <td>no</td>\n",
       "      <td>no</td>\n",
       "      <td>yes</td>\n",
       "    </tr>\n",
       "    <tr>\n",
       "      <th>6</th>\n",
       "      <td>yes</td>\n",
       "      <td>yes</td>\n",
       "      <td>no</td>\n",
       "      <td>yes</td>\n",
       "    </tr>\n",
       "    <tr>\n",
       "      <th>7</th>\n",
       "      <td>no</td>\n",
       "      <td>no</td>\n",
       "      <td>yes</td>\n",
       "      <td>no</td>\n",
       "    </tr>\n",
       "    <tr>\n",
       "      <th>8</th>\n",
       "      <td>yes</td>\n",
       "      <td>no</td>\n",
       "      <td>no</td>\n",
       "      <td>yes</td>\n",
       "    </tr>\n",
       "    <tr>\n",
       "      <th>9</th>\n",
       "      <td>yes</td>\n",
       "      <td>yes</td>\n",
       "      <td>no</td>\n",
       "      <td>yes</td>\n",
       "    </tr>\n",
       "    <tr>\n",
       "      <th>10</th>\n",
       "      <td>no</td>\n",
       "      <td>yes</td>\n",
       "      <td>no</td>\n",
       "      <td>yes</td>\n",
       "    </tr>\n",
       "  </tbody>\n",
       "</table>\n",
       "</div>"
      ],
      "text/plain": [
       "   is_hungry has_poptarts is_driving will_eat\n",
       "0        yes          yes         no      yes\n",
       "1        yes           no         no      yes\n",
       "2        yes           no        yes       no\n",
       "3         no          yes        yes       no\n",
       "4         no           no        yes       no\n",
       "5        yes           no         no      yes\n",
       "6        yes          yes         no      yes\n",
       "7         no           no        yes       no\n",
       "8        yes           no         no      yes\n",
       "9        yes          yes         no      yes\n",
       "10        no          yes         no      yes"
      ]
     },
     "execution_count": 1,
     "metadata": {},
     "output_type": "execute_result"
    }
   ],
   "source": [
    "import pandas as pd\n",
    "import numpy as np\n",
    "\n",
    "eat = pd.read_csv(\"../data/does_james_eat.csv\")\n",
    "eat"
   ]
  },
  {
   "cell_type": "markdown",
   "id": "538bfa1b-91bf-4589-ad28-f5010ca66575",
   "metadata": {},
   "source": [
    "## Bayes Theorem\n",
    "\n",
    "$$ P(c|x) = \\frac{P(x|c)\\times{P(c)}}{P(x)}$$\n",
    "\n",
    "$ P(c|x) $: posterior probability; probability of a class (c) given a predictor (x)\n",
    "- example: probability that I will eat given that I am hungry\n",
    "\n",
    "$ P(x|c) $: likelihood; probability of the predictor (x) given the class (c)\n",
    "- example: probability that I am hungry given that I will eat\n",
    "\n",
    "$ P(c) $: prior probability of the class\n",
    "\n",
    "$ P(x) $: prior probability of the predictor\n",
    "\n"
   ]
  },
  {
   "cell_type": "markdown",
   "id": "e6c3b5f5-2c96-479c-b7c2-265eedb482ce",
   "metadata": {},
   "source": [
    "## Let's try this out\n",
    "what is the probability I will eat given that I am hungry?\n",
    "\n",
    "$$ P(eat|hungry) = \\frac{P(hungry|eat)\\times{P(eat)}}{P(hungry)} $$"
   ]
  },
  {
   "cell_type": "code",
   "execution_count": 2,
   "id": "2cbb6c4f-a14a-4450-99aa-434681ce7ec4",
   "metadata": {},
   "outputs": [
    {
     "name": "stdout",
     "output_type": "stream",
     "text": [
      "0.8571428571428571\n"
     ]
    }
   ],
   "source": [
    "prob_will_eat = 7 / 11\n",
    "prob_hungry_given_will_eat = 6/7\n",
    "prob_hungry = 7/11 # probability of hungry given will eat + probability of hungry give won't eat\n",
    "\n",
    "prob_will_eat_given_hungry = prob_will_eat * prob_hungry_given_will_eat/prob_hungry\n",
    "print(prob_will_eat_given_hungry)"
   ]
  },
  {
   "cell_type": "markdown",
   "id": "61d7490f-c037-4806-b0cf-45c03d3bdffa",
   "metadata": {},
   "source": [
    "what is the probability I won't eat given that I am hungry?\n",
    "\n",
    "$$ P(wont eat|hungry) = \\frac{P(hungry|wont eat)\\times{P(wont eat)}}{P(hungry)} $$"
   ]
  },
  {
   "cell_type": "code",
   "execution_count": 3,
   "id": "aad13716-8267-4b68-a1f0-41239b28dea2",
   "metadata": {},
   "outputs": [
    {
     "name": "stdout",
     "output_type": "stream",
     "text": [
      "0.14285714285714288\n"
     ]
    }
   ],
   "source": [
    "prob_wont_eat = 4 / 11\n",
    "prob_hungry_given_wont_eat = 1/4\n",
    "prob_hungry = 7/11 # probability of hungry given will eat + probability of hungry give won't eat\n",
    "\n",
    "prob_wont_eat_given_hungry = prob_wont_eat * prob_hungry_given_wont_eat/prob_hungry\n",
    "print(prob_wont_eat_given_hungry)"
   ]
  },
  {
   "cell_type": "markdown",
   "id": "f64239df-0e91-4765-a653-4347857d6288",
   "metadata": {},
   "source": [
    "note: sometimes the prior probability of the predictor $ P(x) $ is difficult to calculate so it will often be removed in the calculation. However, what remains is not a probability but a score that is proportional to the posterior probability  $ P(c|x) $ \n",
    "\n",
    "In other words,\n",
    "\n",
    "$$  P(x|c)\\times{P(c)} \\propto P(c|x) $$\n",
    "\n",
    "so where as we would previously pick the target class given I am hungry that has the highest probability, instead I will take that with the higher score."
   ]
  },
  {
   "cell_type": "code",
   "execution_count": 4,
   "id": "2a380ef0-7a99-4c9a-8ab1-bc3b65e7e562",
   "metadata": {},
   "outputs": [
    {
     "name": "stdout",
     "output_type": "stream",
     "text": [
      "score proportional to P(eat | hungry): 0.5454545454545454\n",
      "score proportional to P(wont eat | hungry): 0.09090909090909091\n"
     ]
    }
   ],
   "source": [
    "prob_will_eat = 7 / 11\n",
    "prob_hungry_given_will_eat = 6/7\n",
    "\n",
    "score_will_eat_given_hungry = prob_will_eat * prob_hungry_given_will_eat\n",
    "print(\"score proportional to P(eat | hungry):\", score_will_eat_given_hungry)\n",
    "\n",
    "prob_wont_eat = 4 / 11\n",
    "prob_hungry_given_wont_eat = 1/4\n",
    "\n",
    "score_wont_eat_given_hungry = prob_wont_eat * prob_hungry_given_wont_eat\n",
    "print(\"score proportional to P(wont eat | hungry):\", score_wont_eat_given_hungry)"
   ]
  },
  {
   "cell_type": "code",
   "execution_count": 5,
   "id": "4997b9b0-88f3-46d9-b752-6591d52c02f5",
   "metadata": {},
   "outputs": [
    {
     "name": "stdout",
     "output_type": "stream",
     "text": [
      "will eat\n",
      "   is_hungry has_poptarts is_driving will_eat\n",
      "0        yes          yes         no      yes\n",
      "1        yes           no         no      yes\n",
      "5        yes           no         no      yes\n",
      "6        yes          yes         no      yes\n",
      "8        yes           no         no      yes\n",
      "9        yes          yes         no      yes\n",
      "10        no          yes         no      yes\n",
      "won't eat\n",
      "  is_hungry has_poptarts is_driving will_eat\n",
      "2       yes           no        yes       no\n",
      "3        no          yes        yes       no\n",
      "4        no           no        yes       no\n",
      "7        no           no        yes       no\n"
     ]
    }
   ],
   "source": [
    "buffer = eat['will_eat'] == 'yes'\n",
    "print(\"will eat\")\n",
    "print(eat[buffer])\n",
    "\n",
    "print(\"won't eat\")\n",
    "print(eat[~buffer])"
   ]
  },
  {
   "cell_type": "markdown",
   "id": "e5dee2fa-d056-4451-bb07-c20c9bc080d0",
   "metadata": {},
   "source": [
    "What if the question becomes what is prediction (eat or won't eat) given multiple inputs such as hungry and having poptarts?\n",
    "\n",
    "Well, then it just becomes\n",
    "\n",
    "$$ p(eat | X) \\propto p(hungry | eat) \\times p(poptarts | eat) \\times p(eat)$$\n",
    "\n",
    "and\n",
    "\n",
    "$$ p(wonteat | X) \\propto p(hungry | wont eat) \\times p(poptarts | wont eat) \\times p(wont eat)$$\n",
    "\n",
    "- $ p(hungry | eat) = \\frac{6}{7}$\n",
    "- $ p(poptarts | eat) = \\frac{4}{7}$\n",
    "- $ p(driving | eat) = \\frac{0}{7}$\n",
    "\n",
    "- $ p(hungry | wont eat) = \\frac{1}{4}$\n",
    "- $ p(poptarts | wont eat) = \\frac{1}{4} $\n",
    "- $ p(driving | wont eat) = \\frac{4}{4} $ \n",
    "\n",
    "- $ p(eat) =  \\frac{7}{11} $\n",
    "- $ p(wont eat) = \\frac{4}{11} $\n",
    "\n",
    "\n",
    "so let's plug those values in to see if given a new observation with the inputs of hungry = 'yes' and poptarts = 'yes' what we would should predict with respect whether or not eating food will happen.\n",
    "\n",
    "\n"
   ]
  },
  {
   "cell_type": "code",
   "execution_count": 6,
   "id": "5c44bac6-e9c8-4725-b710-bfa5c6bc6b5e",
   "metadata": {},
   "outputs": [
    {
     "name": "stdout",
     "output_type": "stream",
     "text": [
      "score will eat: 0.3116883116883116\n",
      "score won't eat: 0.022727272727272728\n"
     ]
    }
   ],
   "source": [
    "prob_will_eat = 7 / 11\n",
    "prob_wont_eat = 4 / 11\n",
    "prob_hungry_given_will_eat = 6/7\n",
    "prob_poptart_given_will_eat = 4/7\n",
    "prob_hungry_given_wont_eat = 1/4\n",
    "prob_poptart_given_wont_eat = 1/4\n",
    "\n",
    "score_will_eat = prob_will_eat * prob_hungry_given_will_eat * prob_poptart_given_will_eat\n",
    "score_wont_eat = prob_wont_eat * prob_hungry_given_wont_eat * prob_poptart_given_wont_eat\n",
    "\n",
    "print('score will eat:', score_will_eat)\n",
    "print(\"score won't eat:\", score_wont_eat)\n",
    "\n"
   ]
  },
  {
   "cell_type": "markdown",
   "id": "19ae1d74-2f0e-4b31-b4f8-a73c730c8988",
   "metadata": {},
   "source": [
    "Okay, what if we take all of the inputs? \n",
    "\n"
   ]
  },
  {
   "cell_type": "code",
   "execution_count": 7,
   "id": "c89ffbfa-d9ba-4eae-a3ea-dfed0cdaaf09",
   "metadata": {},
   "outputs": [
    {
     "name": "stdout",
     "output_type": "stream",
     "text": [
      "score will eat: 0.0\n",
      "score won't eat: 0.022727272727272728\n"
     ]
    }
   ],
   "source": [
    "prob_will_eat = 7 / 11\n",
    "prob_wont_eat = 4 / 11\n",
    "prob_hungry_given_will_eat = 6/7\n",
    "prob_poptart_given_will_eat = 4/7\n",
    "prob_driving_given_will_eat = 0/4\n",
    "prob_hungry_given_wont_eat = 1/4\n",
    "prob_poptart_given_wont_eat = 1/4\n",
    "prob_driving_given_wont_eat = 4/4\n",
    "\n",
    "score_will_eat = prob_will_eat * prob_hungry_given_will_eat * prob_poptart_given_will_eat * prob_driving_given_will_eat\n",
    "score_wont_eat = prob_wont_eat * prob_hungry_given_wont_eat * prob_poptart_given_wont_eat * prob_driving_given_wont_eat\n",
    "\n",
    "print('score will eat:', score_will_eat)\n",
    "print(\"score won't eat:\", score_wont_eat)"
   ]
  },
  {
   "cell_type": "markdown",
   "id": "ff09468e-c551-418e-b3ae-66769a120e2f",
   "metadata": {},
   "source": [
    "**Why? Why did we get 0 for our score for `will eat`?**\n",
    "\n",
    "Well, it has to do with $ P(driving | eat)$. This value is $ 0 $ and $ 0 $ multiplied by any other value is $ 0 $. Well, how do we prevent this? Well, there is a value $ \\alpha $ which we can use to ensure that we don't run into these $ 0 $ counts. We can set this to $1$"
   ]
  },
  {
   "cell_type": "code",
   "execution_count": 8,
   "id": "f65c78c8-1712-479a-b8f5-133290e4092c",
   "metadata": {},
   "outputs": [
    {
     "name": "stdout",
     "output_type": "stream",
     "text": [
      "score will eat: 0.07291666666666666\n",
      "score won't eat: 0.06666666666666668\n"
     ]
    }
   ],
   "source": [
    "prob_will_eat = 8/ 12\n",
    "prob_wont_eat = 5 / 12\n",
    "prob_hungry_given_will_eat = 7/8\n",
    "prob_poptart_given_will_eat = 5/8\n",
    "prob_driving_given_will_eat = 1/5 \n",
    "prob_hungry_given_wont_eat = 2/5\n",
    "prob_poptart_given_wont_eat = 2/5\n",
    "prob_driving_given_wont_eat = 5/5\n",
    "\n",
    "score_will_eat = prob_will_eat * prob_hungry_given_will_eat * prob_poptart_given_will_eat * prob_driving_given_will_eat\n",
    "score_wont_eat = prob_wont_eat * prob_hungry_given_wont_eat * prob_poptart_given_wont_eat * prob_driving_given_wont_eat\n",
    "\n",
    "print('score will eat:', score_will_eat)\n",
    "print(\"score won't eat:\", score_wont_eat)"
   ]
  },
  {
   "cell_type": "markdown",
   "id": "b2e67ec8-9067-454f-bd22-ba2ad4bda728",
   "metadata": {},
   "source": [
    "## Naive Bayes\n",
    "\n",
    "- For years, best spam filtering methods used naive Bayes.\n",
    "\n",
    "- Classification technique based on Bayes’ Theorem **with an assumption of independence among predictors** - hence the Naive. \n",
    "    - The presence of a particular feature in a class is unrelated to the presence of any other feature.\n",
    "    - This is like saying: If you are hungry the probability of the symptoms(growling stomach, mouth watering, weakness,...) manifesting are independant \n",
    "\n",
    "E.g. You receive a spam mail that contains the words \"Money\", \"URGENT!\", \"Prize!\". Even if these features depend on each other or others, all of these properties independently contribute to the probability that this email is SPAM.\n",
    "\n",
    "- Naive Bayes is easy to build and useful for very large data sets. \n",
    "\n",
    "- Naive Bayes outperforms even highly sophisticated classification methods and works well with text data."
   ]
  },
  {
   "cell_type": "markdown",
   "id": "afbbef13-39a4-49e9-ba63-44890b09c47f",
   "metadata": {},
   "source": [
    "## Naive Bayes Classifier\n",
    "\n",
    "\n",
    "Before understanding the theory, let's try `scikit-learn`'s implementation of Naive Bayes on Kaggle's [SMS Spam Collection Dataset](https://www.kaggle.com/uciml/sms-spam-collection-dataset).\n",
    "\n",
    "#### We will use `CountVectorizer` to get bag-of-words (BOW) representation - We will come back to this later in more detail!\n",
    "\n",
    "- So we used `CountVectorizer` to convert text data into feature vectors where\n",
    "    - each feature is a unique word in the text  \n",
    "    - each feature value represents the frequency or presence/absence of the word in the given message         \n",
    "    \n",
    "<img src='../images/bag-of-words.png' width=\"600\">\n",
    "\n",
    "[Source](https://web.stanford.edu/~jurafsky/slp3/4.pdf)     \n"
   ]
  },
  {
   "cell_type": "code",
   "execution_count": 9,
   "id": "a2565100-d1ad-42e7-a79d-435e2aadbfc4",
   "metadata": {},
   "outputs": [],
   "source": [
    "# And import the libraries\n",
    "import matplotlib.pyplot as plt\n",
    "import numpy as np\n",
    "import pandas as pd\n",
    "\n",
    "\n",
    "# pip install git+git://github.com/mgelbart/plot-classifier.git\n",
    "from plot_classifier import plot_classifier\n",
    "\n",
    "from sklearn.dummy import DummyClassifier\n",
    "from sklearn.feature_extraction.text import (\n",
    "    CountVectorizer,\n",
    "    TfidfTransformer,\n",
    "    TfidfVectorizer,\n",
    ")\n",
    "\n",
    "# train test split and cross validation\n",
    "from sklearn.model_selection import (\n",
    "    GridSearchCV,\n",
    "    cross_val_score,\n",
    "    cross_validate,\n",
    "    train_test_split,\n",
    ")\n",
    "\n",
    "from sklearn.pipeline import Pipeline, make_pipeline\n",
    "\n",
    "from sklearn.svm import SVC\n",
    "from sklearn.tree import DecisionTreeClassifier\n",
    "from sklearn.neighbors import KNeighborsClassifier\n",
    "\n",
    "%matplotlib inline\n",
    "from sklearn.naive_bayes import MultinomialNB, BernoulliNB, GaussianNB\n",
    "\n",
    "pd.set_option(\"display.max_colwidth\", 200)"
   ]
  },
  {
   "cell_type": "code",
   "execution_count": 10,
   "id": "6bffacbd-6ee2-4b71-bce8-025181bc19bc",
   "metadata": {},
   "outputs": [],
   "source": [
    "sms_df = pd.read_csv(\"../data/spam.csv\", encoding=\"latin-1\")\n",
    "sms_df = sms_df.drop([\"Unnamed: 2\", \"Unnamed: 3\", \"Unnamed: 4\"], axis=1)\n",
    "sms_df = sms_df.rename(columns={\"v1\": \"target\", \"v2\": \"sms\"})"
   ]
  },
  {
   "cell_type": "code",
   "execution_count": 11,
   "id": "325d3e93-0fd5-4007-a3d6-9f9742fbf25d",
   "metadata": {},
   "outputs": [
    {
     "data": {
      "text/html": [
       "<div>\n",
       "<style scoped>\n",
       "    .dataframe tbody tr th:only-of-type {\n",
       "        vertical-align: middle;\n",
       "    }\n",
       "\n",
       "    .dataframe tbody tr th {\n",
       "        vertical-align: top;\n",
       "    }\n",
       "\n",
       "    .dataframe thead th {\n",
       "        text-align: right;\n",
       "    }\n",
       "</style>\n",
       "<table border=\"1\" class=\"dataframe\">\n",
       "  <thead>\n",
       "    <tr style=\"text-align: right;\">\n",
       "      <th></th>\n",
       "      <th>target</th>\n",
       "      <th>sms</th>\n",
       "    </tr>\n",
       "  </thead>\n",
       "  <tbody>\n",
       "    <tr>\n",
       "      <th>385</th>\n",
       "      <td>ham</td>\n",
       "      <td>It took Mr owl 3 licks</td>\n",
       "    </tr>\n",
       "    <tr>\n",
       "      <th>4003</th>\n",
       "      <td>ham</td>\n",
       "      <td>Well there's a pattern emerging of my friends telling me to drive up and come smoke with them and then telling me that I'm a weed fiend/make them smoke too much/impede their doing other things so ...</td>\n",
       "    </tr>\n",
       "    <tr>\n",
       "      <th>1283</th>\n",
       "      <td>ham</td>\n",
       "      <td>Yes i thought so. Thanks.</td>\n",
       "    </tr>\n",
       "    <tr>\n",
       "      <th>2327</th>\n",
       "      <td>spam</td>\n",
       "      <td>URGENT! Your mobile number *************** WON a å£2000 Bonus Caller prize on 10/06/03! This is the 2nd attempt to reach you! Call 09066368753 ASAP! Box 97N7QP, 150ppm</td>\n",
       "    </tr>\n",
       "    <tr>\n",
       "      <th>1103</th>\n",
       "      <td>ham</td>\n",
       "      <td>Aiyah sorry lor... I watch tv watch until i forgot 2 check my phone.</td>\n",
       "    </tr>\n",
       "  </tbody>\n",
       "</table>\n",
       "</div>"
      ],
      "text/plain": [
       "     target  \\\n",
       "385     ham   \n",
       "4003    ham   \n",
       "1283    ham   \n",
       "2327   spam   \n",
       "1103    ham   \n",
       "\n",
       "                                                                                                                                                                                                          sms  \n",
       "385                                                                                                                                                                                    It took Mr owl 3 licks  \n",
       "4003  Well there's a pattern emerging of my friends telling me to drive up and come smoke with them and then telling me that I'm a weed fiend/make them smoke too much/impede their doing other things so ...  \n",
       "1283                                                                                                                                                                                Yes i thought so. Thanks.  \n",
       "2327                                  URGENT! Your mobile number *************** WON a å£2000 Bonus Caller prize on 10/06/03! This is the 2nd attempt to reach you! Call 09066368753 ASAP! Box 97N7QP, 150ppm  \n",
       "1103                                                                                                                                     Aiyah sorry lor... I watch tv watch until i forgot 2 check my phone.  "
      ]
     },
     "execution_count": 11,
     "metadata": {},
     "output_type": "execute_result"
    }
   ],
   "source": [
    "train_df, test_df = train_test_split(sms_df, test_size=0.2, random_state=123)\n",
    "X_train, y_train = train_df[\"sms\"], train_df[\"target\"]\n",
    "X_test, y_test = test_df[\"sms\"], test_df[\"target\"]\n",
    "\n",
    "train_df.head()"
   ]
  },
  {
   "cell_type": "code",
   "execution_count": 12,
   "id": "bc50655a-e709-4f47-8674-4e3fc2f998f6",
   "metadata": {},
   "outputs": [
    {
     "name": "stdout",
     "output_type": "stream",
     "text": [
      "Training Acc.:  0.9932690150325331\n",
      "Valid Acc.:  0.9865470852017937\n"
     ]
    }
   ],
   "source": [
    "from sklearn.naive_bayes import MultinomialNB\n",
    "\n",
    "pipe_nb = make_pipeline(CountVectorizer(), MultinomialNB())\n",
    "\n",
    "pipe_nb.fit(X_train, y_train)\n",
    "print(\"Training Acc.: \", pipe_nb.score(X_train,y_train))\n",
    "print(\"Valid Acc.: \", pipe_nb.score(X_test,y_test))"
   ]
  },
  {
   "cell_type": "markdown",
   "id": "777545c3-dad5-4f28-be0f-92fd4355266c",
   "metadata": {},
   "source": [
    "### Naive Bayes `predict`\n",
    "\n",
    "- Given a new message, we want to predict whether it's spam or non spam (ham).\n",
    "- Example: Predict whether the following message is spam or non spam (ham). \n",
    "> \"URGENT! Free!!\""
   ]
  },
  {
   "cell_type": "code",
   "execution_count": 13,
   "id": "39238006-c46f-40a0-a25a-98988c5c97c5",
   "metadata": {},
   "outputs": [
    {
     "data": {
      "text/plain": [
       "array(['spam', 'ham'], dtype='<U4')"
      ]
     },
     "execution_count": 13,
     "metadata": {},
     "output_type": "execute_result"
    }
   ],
   "source": [
    "deploy_test = [\"URGENT! Free!!\", \"I like learning about stats!\"]\n",
    "pipe_nb.predict(deploy_test)"
   ]
  },
  {
   "cell_type": "markdown",
   "id": "9db32f07-6edf-4cde-96e0-fbd5ee4e213d",
   "metadata": {},
   "source": [
    "### Probabilistic classifiers: `predict` by hand \n",
    "\n",
    "- What's it's doing under the hood? \n",
    "- Let's look at an example with a toy dataset. "
   ]
  },
  {
   "cell_type": "code",
   "execution_count": 14,
   "id": "671f4f72-b92d-4c39-ab44-deee73696e3d",
   "metadata": {},
   "outputs": [],
   "source": [
    "X = [\n",
    "    \"URGENT!! As a valued network customer you have been selected to receive a £900 prize reward!\",\n",
    "    \"Lol you are always so convincing.\",\n",
    "    \"Block 2 has interesting courses.\",\n",
    "    \"URGENT! You have won a 1 week FREE membership in our £100000 prize Jackpot!\",\n",
    "    \"Had your mobile 11 months or more? U R entitled to Update to the latest colour mobiles with camera for Free!\",\n",
    "    \"Block 2 has been interesting so far.\",\n",
    "]\n",
    "y = [\"spam\", \"non spam\", \"non spam\", \"spam\", \"spam\", \"non spam\"]"
   ]
  },
  {
   "cell_type": "markdown",
   "id": "a86e685a-8192-44e9-8411-1c3ec566e2f5",
   "metadata": {},
   "source": [
    "In this quick example, we aren't going to look at all of the possible words but only four of them. In other words, each observation will just have four input features pertaining to the number of occurences of each of those four words."
   ]
  },
  {
   "cell_type": "code",
   "execution_count": 15,
   "id": "702a0edc-8942-4be8-8594-5bb2caf18d8f",
   "metadata": {},
   "outputs": [],
   "source": [
    "pipe_nb_toy = make_pipeline(CountVectorizer(max_features = 4, stop_words='english'), MultinomialNB())\n",
    "pipe_nb_toy.fit(X, y);"
   ]
  },
  {
   "cell_type": "code",
   "execution_count": 16,
   "id": "bdfe3a43-6b74-444d-b3da-87bf1488a5c8",
   "metadata": {},
   "outputs": [
    {
     "data": {
      "text/html": [
       "<div>\n",
       "<style scoped>\n",
       "    .dataframe tbody tr th:only-of-type {\n",
       "        vertical-align: middle;\n",
       "    }\n",
       "\n",
       "    .dataframe tbody tr th {\n",
       "        vertical-align: top;\n",
       "    }\n",
       "\n",
       "    .dataframe thead th {\n",
       "        text-align: right;\n",
       "    }\n",
       "</style>\n",
       "<table border=\"1\" class=\"dataframe\">\n",
       "  <thead>\n",
       "    <tr style=\"text-align: right;\">\n",
       "      <th></th>\n",
       "      <th>block</th>\n",
       "      <th>free</th>\n",
       "      <th>prize</th>\n",
       "      <th>urgent</th>\n",
       "      <th>target</th>\n",
       "    </tr>\n",
       "  </thead>\n",
       "  <tbody>\n",
       "    <tr>\n",
       "      <th>URGENT!! As a valued network customer you have been selected to receive a £900 prize reward!</th>\n",
       "      <td>0</td>\n",
       "      <td>0</td>\n",
       "      <td>1</td>\n",
       "      <td>1</td>\n",
       "      <td>spam</td>\n",
       "    </tr>\n",
       "    <tr>\n",
       "      <th>Lol you are always so convincing.</th>\n",
       "      <td>0</td>\n",
       "      <td>0</td>\n",
       "      <td>0</td>\n",
       "      <td>0</td>\n",
       "      <td>non spam</td>\n",
       "    </tr>\n",
       "    <tr>\n",
       "      <th>Block 2 has interesting courses.</th>\n",
       "      <td>1</td>\n",
       "      <td>0</td>\n",
       "      <td>0</td>\n",
       "      <td>0</td>\n",
       "      <td>non spam</td>\n",
       "    </tr>\n",
       "    <tr>\n",
       "      <th>URGENT! You have won a 1 week FREE membership in our £100000 prize Jackpot!</th>\n",
       "      <td>0</td>\n",
       "      <td>1</td>\n",
       "      <td>1</td>\n",
       "      <td>1</td>\n",
       "      <td>spam</td>\n",
       "    </tr>\n",
       "    <tr>\n",
       "      <th>Had your mobile 11 months or more? U R entitled to Update to the latest colour mobiles with camera for Free!</th>\n",
       "      <td>0</td>\n",
       "      <td>1</td>\n",
       "      <td>0</td>\n",
       "      <td>0</td>\n",
       "      <td>spam</td>\n",
       "    </tr>\n",
       "    <tr>\n",
       "      <th>Block 2 has been interesting so far.</th>\n",
       "      <td>1</td>\n",
       "      <td>0</td>\n",
       "      <td>0</td>\n",
       "      <td>0</td>\n",
       "      <td>non spam</td>\n",
       "    </tr>\n",
       "  </tbody>\n",
       "</table>\n",
       "</div>"
      ],
      "text/plain": [
       "                                                                                                              block  \\\n",
       "URGENT!! As a valued network customer you have been selected to receive a £900 prize reward!                      0   \n",
       "Lol you are always so convincing.                                                                                 0   \n",
       "Block 2 has interesting courses.                                                                                  1   \n",
       "URGENT! You have won a 1 week FREE membership in our £100000 prize Jackpot!                                       0   \n",
       "Had your mobile 11 months or more? U R entitled to Update to the latest colour mobiles with camera for Free!      0   \n",
       "Block 2 has been interesting so far.                                                                              1   \n",
       "\n",
       "                                                                                                              free  \\\n",
       "URGENT!! As a valued network customer you have been selected to receive a £900 prize reward!                     0   \n",
       "Lol you are always so convincing.                                                                                0   \n",
       "Block 2 has interesting courses.                                                                                 0   \n",
       "URGENT! You have won a 1 week FREE membership in our £100000 prize Jackpot!                                      1   \n",
       "Had your mobile 11 months or more? U R entitled to Update to the latest colour mobiles with camera for Free!     1   \n",
       "Block 2 has been interesting so far.                                                                             0   \n",
       "\n",
       "                                                                                                              prize  \\\n",
       "URGENT!! As a valued network customer you have been selected to receive a £900 prize reward!                      1   \n",
       "Lol you are always so convincing.                                                                                 0   \n",
       "Block 2 has interesting courses.                                                                                  0   \n",
       "URGENT! You have won a 1 week FREE membership in our £100000 prize Jackpot!                                       1   \n",
       "Had your mobile 11 months or more? U R entitled to Update to the latest colour mobiles with camera for Free!      0   \n",
       "Block 2 has been interesting so far.                                                                              0   \n",
       "\n",
       "                                                                                                              urgent  \\\n",
       "URGENT!! As a valued network customer you have been selected to receive a £900 prize reward!                       1   \n",
       "Lol you are always so convincing.                                                                                  0   \n",
       "Block 2 has interesting courses.                                                                                   0   \n",
       "URGENT! You have won a 1 week FREE membership in our £100000 prize Jackpot!                                        1   \n",
       "Had your mobile 11 months or more? U R entitled to Update to the latest colour mobiles with camera for Free!       0   \n",
       "Block 2 has been interesting so far.                                                                               0   \n",
       "\n",
       "                                                                                                                target  \n",
       "URGENT!! As a valued network customer you have been selected to receive a £900 prize reward!                      spam  \n",
       "Lol you are always so convincing.                                                                             non spam  \n",
       "Block 2 has interesting courses.                                                                              non spam  \n",
       "URGENT! You have won a 1 week FREE membership in our £100000 prize Jackpot!                                       spam  \n",
       "Had your mobile 11 months or more? U R entitled to Update to the latest colour mobiles with camera for Free!      spam  \n",
       "Block 2 has been interesting so far.                                                                          non spam  "
      ]
     },
     "execution_count": 16,
     "metadata": {},
     "output_type": "execute_result"
    }
   ],
   "source": [
    "data = pipe_nb_toy['countvectorizer'].transform(X)\n",
    "train_bow_df = pd.DataFrame(data.toarray(), columns=pipe_nb_toy['countvectorizer'].get_feature_names_out(), index=X)\n",
    "train_bow_df['target'] = y\n",
    "train_bow_df"
   ]
  },
  {
   "cell_type": "markdown",
   "id": "cf5a0229-137c-41d9-9cdf-140e7122e651",
   "metadata": {},
   "source": [
    "Suppose we are given text messages in `deploy_test` and we want to find the targets for these examples, how do we do it using naive Bayes?\n",
    "\n",
    "First, let's get numeric representation of our text messages. "
   ]
  },
  {
   "cell_type": "code",
   "execution_count": 17,
   "id": "45eeae03-fa1f-4a6f-9346-0781fd69db88",
   "metadata": {},
   "outputs": [
    {
     "data": {
      "text/html": [
       "<div>\n",
       "<style scoped>\n",
       "    .dataframe tbody tr th:only-of-type {\n",
       "        vertical-align: middle;\n",
       "    }\n",
       "\n",
       "    .dataframe tbody tr th {\n",
       "        vertical-align: top;\n",
       "    }\n",
       "\n",
       "    .dataframe thead th {\n",
       "        text-align: right;\n",
       "    }\n",
       "</style>\n",
       "<table border=\"1\" class=\"dataframe\">\n",
       "  <thead>\n",
       "    <tr style=\"text-align: right;\">\n",
       "      <th></th>\n",
       "      <th>block</th>\n",
       "      <th>free</th>\n",
       "      <th>prize</th>\n",
       "      <th>urgent</th>\n",
       "    </tr>\n",
       "  </thead>\n",
       "  <tbody>\n",
       "    <tr>\n",
       "      <th>URGENT! Free!!</th>\n",
       "      <td>0</td>\n",
       "      <td>1</td>\n",
       "      <td>0</td>\n",
       "      <td>1</td>\n",
       "    </tr>\n",
       "    <tr>\n",
       "      <th>I like Week 5 block better.</th>\n",
       "      <td>1</td>\n",
       "      <td>0</td>\n",
       "      <td>0</td>\n",
       "      <td>0</td>\n",
       "    </tr>\n",
       "  </tbody>\n",
       "</table>\n",
       "</div>"
      ],
      "text/plain": [
       "                             block  free  prize  urgent\n",
       "URGENT! Free!!                   0     1      0       1\n",
       "I like Week 5 block better.      1     0      0       0"
      ]
     },
     "execution_count": 17,
     "metadata": {},
     "output_type": "execute_result"
    }
   ],
   "source": [
    "deploy_test = [\"URGENT! Free!!\", \"I like Week 5 block better.\"]\n",
    "data = pipe_nb_toy['countvectorizer'].transform(deploy_test).toarray()\n",
    "bow_df = pd.DataFrame(data, columns=pipe_nb_toy['countvectorizer'].get_feature_names_out(), index=deploy_test)\n",
    "bow_df"
   ]
  },
  {
   "cell_type": "markdown",
   "id": "3992580d-3dcb-41f9-9492-777c18e86ac8",
   "metadata": {},
   "source": [
    "### Naive Bayes prediction idea\n",
    "\n",
    "Suppose we want to predict whether the following message is \"spam\" or \"non spam\".\n",
    "> \"URGENT! Free!!\"\n",
    "\n",
    "Representation of the message: `[0, 1, 0, 1]`\n",
    "\n",
    "To predict the correct class, naive Bayes calculates the following probability scores using Bayes Theorem. \n",
    "\n",
    "- $P(\\text{spam} \\mid \\text{block} = 0, \\text{free} = 1, \\text{prize} = 0, \\text{urgent=1})$ \n",
    "- $P(\\text{non spam} \\mid  \\text{block} = 0, \\text{free} = 1, \\text{prize} = 0, \\text{urgent=1})$\n",
    "- **Picks the label with higher probability scores**. "
   ]
  },
  {
   "cell_type": "markdown",
   "id": "3696371f-8e5e-4f0c-ad13-1d7609ad8419",
   "metadata": {},
   "source": [
    "### Applying Bayes' theorem \n",
    "\n",
    "Uses Bayes' theorem to calculate probabilities:\n",
    "\n",
    "$$P(A \\mid B) = \\frac{P(B \\mid A) \\times P(A)}{P(B)}$$\n",
    "\n",
    "$$P(\\text{spam} \\mid \\text{message})= \\frac{P(\\text{block} = 0, \\text{free} = 1, \\text{prize} = 0, \\text{urgent} = 1 \\mid \\text{spam}) \\times P(\\text{spam})}{P(\\text{block} = 0, \\text{free} = 1, \\text{prize} = 0, \\text{urgent=1})}$$\n",
    "\n",
    "$$P(\\text{non spam} \\mid \\text{message}) = \\frac{P(\\text{block} = 0, \\text{free} = 1, \\text{prize} = 0, \\text{urgent} = 1 \\mid \\text{non spam}) \\times P( \\text{non spam})}{P(\\text{block} = 0, \\text{free} = 1, \\text{prize} = 0, \\text{urgent=1})}$$\n",
    "\n",
    "- $P(\\text{message})$: marginal probability that a message has the given set of words \n",
    "    - Hard to calculate but can be ignored in our scenario as it occurs in the denominator for both $P(\\text{spam} \\mid \\text{message})$ and $P(\\text{non spam} \\mid \\text{message})$.\n",
    "    - So we ignore the denominator in both cases. \n",
    "    \n",
    "### Let's focus on $P(\\text{spam} \\mid \\text{message})$\n",
    "\n",
    "- After ignoring the denominator: \n",
    "$$P(\\text{spam} \\mid \\text{message}) \\propto P(\\text{block} = 0, \\text{free} = 1, \\text{prize} = 0, \\text{urgent} = 1 \\mid \\text{spam}) \\times P(\\text{spam})$$\n",
    "\n",
    "- To calculate $P(\\text{spam} \\mid \\text{message})$, we need:  \n",
    "    - $P(\\text{spam})$: marginal probability that a message is spam\n",
    "    - $P(\\text{message}\\mid\\text{spam})$: conditional probability that message has words $w_1, w_2, \\dots, w_d$, given that it is spam.\n",
    "        - Hard to calculate because it would require huge numbers of parameters and impossibly large training sets. But we need it. \n",
    "        - with $d$ binary features, how many possible \"text messages\" are there?\n",
    "        - we cannot possibly have access to all the data"
   ]
  },
  {
   "cell_type": "markdown",
   "id": "699d1ed5-8b3c-472c-9c4a-4528455a5521",
   "metadata": {},
   "source": [
    "### Going back to estimating $P(\\text{spam} | \\text{message})$\n",
    "\n",
    "With naive Bayes' assumption, to calculate $P(\\text{spam} \\mid \\text{block} = 0, \\text{free} = 1, \\text{prize} = 0, \\text{urgent} = 1)$ or $P(spam | \\text{free} \\text{urgent})$, we need the following:  \n",
    "1. Prior probability: $P(\\text{spam})$ \n",
    "2. Conditional probabilities (calculated from training): \n",
    "    1. $P(\\text{free} = 1 \\mid \\text{spam})$\n",
    "    2. $P(\\text{urgent} = 1 \\mid \\text{spam})$\n",
    "\n",
    "We use our training data to calculate these probabilities. "
   ]
  },
  {
   "cell_type": "code",
   "execution_count": 18,
   "id": "1d5e28ea-54b1-4113-8807-a2a855bf570a",
   "metadata": {},
   "outputs": [
    {
     "data": {
      "text/html": [
       "<div>\n",
       "<style scoped>\n",
       "    .dataframe tbody tr th:only-of-type {\n",
       "        vertical-align: middle;\n",
       "    }\n",
       "\n",
       "    .dataframe tbody tr th {\n",
       "        vertical-align: top;\n",
       "    }\n",
       "\n",
       "    .dataframe thead th {\n",
       "        text-align: right;\n",
       "    }\n",
       "</style>\n",
       "<table border=\"1\" class=\"dataframe\">\n",
       "  <thead>\n",
       "    <tr style=\"text-align: right;\">\n",
       "      <th></th>\n",
       "      <th>block</th>\n",
       "      <th>free</th>\n",
       "      <th>prize</th>\n",
       "      <th>urgent</th>\n",
       "      <th>target</th>\n",
       "    </tr>\n",
       "  </thead>\n",
       "  <tbody>\n",
       "    <tr>\n",
       "      <th>URGENT!! As a valued network customer you have been selected to receive a £900 prize reward!</th>\n",
       "      <td>0</td>\n",
       "      <td>0</td>\n",
       "      <td>1</td>\n",
       "      <td>1</td>\n",
       "      <td>spam</td>\n",
       "    </tr>\n",
       "    <tr>\n",
       "      <th>Lol you are always so convincing.</th>\n",
       "      <td>0</td>\n",
       "      <td>0</td>\n",
       "      <td>0</td>\n",
       "      <td>0</td>\n",
       "      <td>non spam</td>\n",
       "    </tr>\n",
       "    <tr>\n",
       "      <th>Block 2 has interesting courses.</th>\n",
       "      <td>1</td>\n",
       "      <td>0</td>\n",
       "      <td>0</td>\n",
       "      <td>0</td>\n",
       "      <td>non spam</td>\n",
       "    </tr>\n",
       "    <tr>\n",
       "      <th>URGENT! You have won a 1 week FREE membership in our £100000 prize Jackpot!</th>\n",
       "      <td>0</td>\n",
       "      <td>1</td>\n",
       "      <td>1</td>\n",
       "      <td>1</td>\n",
       "      <td>spam</td>\n",
       "    </tr>\n",
       "    <tr>\n",
       "      <th>Had your mobile 11 months or more? U R entitled to Update to the latest colour mobiles with camera for Free!</th>\n",
       "      <td>0</td>\n",
       "      <td>1</td>\n",
       "      <td>0</td>\n",
       "      <td>0</td>\n",
       "      <td>spam</td>\n",
       "    </tr>\n",
       "    <tr>\n",
       "      <th>Block 2 has been interesting so far.</th>\n",
       "      <td>1</td>\n",
       "      <td>0</td>\n",
       "      <td>0</td>\n",
       "      <td>0</td>\n",
       "      <td>non spam</td>\n",
       "    </tr>\n",
       "  </tbody>\n",
       "</table>\n",
       "</div>"
      ],
      "text/plain": [
       "                                                                                                              block  \\\n",
       "URGENT!! As a valued network customer you have been selected to receive a £900 prize reward!                      0   \n",
       "Lol you are always so convincing.                                                                                 0   \n",
       "Block 2 has interesting courses.                                                                                  1   \n",
       "URGENT! You have won a 1 week FREE membership in our £100000 prize Jackpot!                                       0   \n",
       "Had your mobile 11 months or more? U R entitled to Update to the latest colour mobiles with camera for Free!      0   \n",
       "Block 2 has been interesting so far.                                                                              1   \n",
       "\n",
       "                                                                                                              free  \\\n",
       "URGENT!! As a valued network customer you have been selected to receive a £900 prize reward!                     0   \n",
       "Lol you are always so convincing.                                                                                0   \n",
       "Block 2 has interesting courses.                                                                                 0   \n",
       "URGENT! You have won a 1 week FREE membership in our £100000 prize Jackpot!                                      1   \n",
       "Had your mobile 11 months or more? U R entitled to Update to the latest colour mobiles with camera for Free!     1   \n",
       "Block 2 has been interesting so far.                                                                             0   \n",
       "\n",
       "                                                                                                              prize  \\\n",
       "URGENT!! As a valued network customer you have been selected to receive a £900 prize reward!                      1   \n",
       "Lol you are always so convincing.                                                                                 0   \n",
       "Block 2 has interesting courses.                                                                                  0   \n",
       "URGENT! You have won a 1 week FREE membership in our £100000 prize Jackpot!                                       1   \n",
       "Had your mobile 11 months or more? U R entitled to Update to the latest colour mobiles with camera for Free!      0   \n",
       "Block 2 has been interesting so far.                                                                              0   \n",
       "\n",
       "                                                                                                              urgent  \\\n",
       "URGENT!! As a valued network customer you have been selected to receive a £900 prize reward!                       1   \n",
       "Lol you are always so convincing.                                                                                  0   \n",
       "Block 2 has interesting courses.                                                                                   0   \n",
       "URGENT! You have won a 1 week FREE membership in our £100000 prize Jackpot!                                        1   \n",
       "Had your mobile 11 months or more? U R entitled to Update to the latest colour mobiles with camera for Free!       0   \n",
       "Block 2 has been interesting so far.                                                                               0   \n",
       "\n",
       "                                                                                                                target  \n",
       "URGENT!! As a valued network customer you have been selected to receive a £900 prize reward!                      spam  \n",
       "Lol you are always so convincing.                                                                             non spam  \n",
       "Block 2 has interesting courses.                                                                              non spam  \n",
       "URGENT! You have won a 1 week FREE membership in our £100000 prize Jackpot!                                       spam  \n",
       "Had your mobile 11 months or more? U R entitled to Update to the latest colour mobiles with camera for Free!      spam  \n",
       "Block 2 has been interesting so far.                                                                          non spam  "
      ]
     },
     "execution_count": 18,
     "metadata": {},
     "output_type": "execute_result"
    }
   ],
   "source": [
    "train_bow_df"
   ]
  },
  {
   "cell_type": "markdown",
   "id": "199b1845-d8df-4412-ad22-84a6d64d79ae",
   "metadata": {},
   "source": [
    "- Prior probability\n",
    "    - $P(\\text{spam}) = 3/6$\n",
    "    - $P(\\text{not spam} = 3/6$\n",
    "    \n",
    "- Conditional probabilities\n",
    "    - $P(\\text{block} \\mid \\text{spam} = 0/6$ \n",
    "    - $P(\\text{free}  \\mid \\text{spam}) = 1/6$ \n",
    "    - $P(\\text{prize} \\mid \\text{spam}) = 2/6 = 1/3$\n",
    "    - $P(\\text{urgent} \\mid \\text{spam}) = 1/3$\n",
    "    - $P(\\text{block} \\mid \\text{not spam} = 2/2$ \n",
    "    - $P(\\text{free}  \\mid \\text{not spam}) = 0/2$ \n",
    "    - $P(\\text{prize} \\mid \\text{not spam}) = 0/2$\n",
    "    - $P(\\text{urgent} \\mid \\text{not spam}) = 0/2$"
   ]
  },
  {
   "cell_type": "code",
   "execution_count": 19,
   "id": "04e85633-5835-4e6b-a422-d0481d65d82b",
   "metadata": {},
   "outputs": [
    {
     "name": "stdout",
     "output_type": "stream",
     "text": [
      "0.027777777777777776\n",
      "0.0\n"
     ]
    }
   ],
   "source": [
    "## URGENT! free\n",
    "\n",
    "spam_prior = 3/6\n",
    "free_spam = 1/6\n",
    "urgent_spam = 1/3\n",
    "print((spam_prior  * free_spam  * urgent_spam))\n",
    "\n",
    "notspam_prior = 3/6\n",
    "free_notspam = 0/2\n",
    "urgent_notspam = 0/2\n",
    "print((notspam_prior  * free_notspam  * urgent_notspam))"
   ]
  },
  {
   "cell_type": "markdown",
   "id": "09c6d41b-cfaf-4805-b5d4-a57ce48ec9e0",
   "metadata": {},
   "source": [
    "### What is our toy pipeline's prediction? "
   ]
  },
  {
   "cell_type": "code",
   "execution_count": 20,
   "id": "c4b7aee8-94df-4029-9220-56ecf191cb34",
   "metadata": {},
   "outputs": [
    {
     "data": {
      "text/plain": [
       "array(['spam'], dtype='<U8')"
      ]
     },
     "execution_count": 20,
     "metadata": {},
     "output_type": "execute_result"
    }
   ],
   "source": [
    "deploy_test = [\"URGENT! Free!!\"]\n",
    "pipe_nb_toy.predict(deploy_test)"
   ]
  },
  {
   "cell_type": "markdown",
   "id": "99552d95-281f-4b54-96e3-da1eae96043d",
   "metadata": {},
   "source": [
    "# Adding an $\\alpha$\n",
    "Let's deal with those missing values. Let's ensure that each word count has 1 added to it to combat the presence of 0s."
   ]
  },
  {
   "cell_type": "code",
   "execution_count": 21,
   "id": "982dfe5d-fe9d-4fec-befb-1a3ea9cd73a6",
   "metadata": {},
   "outputs": [
    {
     "name": "stdout",
     "output_type": "stream",
     "text": [
      "0.024000000000000004\n",
      "0.013888888888888888\n"
     ]
    }
   ],
   "source": [
    "## URGENT! free\n",
    "\n",
    "spam_prior = 4/10\n",
    "free_spam = 2/10\n",
    "urgent_spam = 3/10\n",
    "print((spam_prior  * free_spam  * urgent_spam))\n",
    "\n",
    "notspam_prior = 3/6\n",
    "free_notspam = 1/6\n",
    "urgent_notspam = 1/6\n",
    "print((notspam_prior  * free_notspam  * urgent_notspam))"
   ]
  }
 ],
 "metadata": {
  "kernelspec": {
   "display_name": "Python 3 (ipykernel)",
   "language": "python",
   "name": "python3"
  },
  "language_info": {
   "codemirror_mode": {
    "name": "ipython",
    "version": 3
   },
   "file_extension": ".py",
   "mimetype": "text/x-python",
   "name": "python",
   "nbconvert_exporter": "python",
   "pygments_lexer": "ipython3",
   "version": "3.8.10"
  }
 },
 "nbformat": 4,
 "nbformat_minor": 5
}
